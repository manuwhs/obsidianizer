{
 "cells": [
  {
   "cell_type": "markdown",
   "metadata": {},
   "source": [
    "# Ecce Hommo analysis\n",
    "\n",
    "In this example we will use the Ecce Hommo book from Walter Kauffman. \n",
    "It is an scanned work so there is some uncertainty in the OCR that we should overcome with some rules of thumb and basic statistics.\n"
   ]
  },
  {
   "cell_type": "code",
   "execution_count": null,
   "metadata": {},
   "outputs": [],
   "source": [
    "%load_ext autoreload\n",
    "%autoreload 2\n",
    "\n",
    "import fitz\n",
    "from obsidianizer.pdf_tools.annotations import extract_annotation\n",
    "from obsidianizer.pdf_tools.pages import extract_page_annotations, get_blocks_summary, get_words_data_frame\n",
    "from obsidianizer.pdf_tools.plots import get_rectangles_from_data_frame\n",
    "from obsidianizer.pdf_tools.documents import get_book_filtered_blocks, extract_book_annotations\n",
    "\n",
    "from obsidianizer.obsidian.vault import load_vault, save_vault\n",
    "from IPython.display import display\n",
    "\n",
    "import plotly.graph_objects as go\n",
    "\n",
    "from obsidianizer.pdf_tools.page_plots import get_page_figure_widget, get_book_figure_widget\n",
    "from obsidianizer.pdf_tools.ecce_homo import is_ecce_hommo_chapter, is_ecce_hommo_subsection\n",
    "from obsidianizer.obsidian.pdf_tools import get_vault_df_from_pdf\n",
    "from obsidianizer.machine_learning.outliers import get_outlier_series,get_and_join_outlier_series,modify_predictor\n",
    "import plotly.express as px\n",
    "\n",
    "from obsidianizer import EXAMPLE_ECCE_HOMMO_PDF_PATH,EXAMPLE_ECCE_HOMMO_VAULT_PATH"
   ]
  },
  {
   "cell_type": "code",
   "execution_count": null,
   "metadata": {},
   "outputs": [],
   "source": [
    "filepath = EXAMPLE_ECCE_HOMMO_PDF_PATH"
   ]
  },
  {
   "cell_type": "code",
   "execution_count": null,
   "metadata": {},
   "outputs": [],
   "source": [
    "doc = fitz.open(filepath) "
   ]
  },
  {
   "cell_type": "markdown",
   "metadata": {},
   "source": [
    "## Load the book and subselect the pages of the Ecce Homo part."
   ]
  },
  {
   "cell_type": "code",
   "execution_count": null,
   "metadata": {},
   "outputs": [],
   "source": [
    "book = [doc[i] for i in range(224,334)]\n",
    "book_subset = [book[i] for i in range(0,50)]"
   ]
  },
  {
   "cell_type": "markdown",
   "metadata": {},
   "source": [
    "# 1. Initial exploratory analysis"
   ]
  },
  {
   "cell_type": "markdown",
   "metadata": {},
   "source": [
    "### Plot a few pages"
   ]
  },
  {
   "cell_type": "code",
   "execution_count": null,
   "metadata": {},
   "outputs": [],
   "source": [
    "pages_to_display = range(5)\n",
    "book_tabs = get_book_figure_widget([book[i] for i in pages_to_display], width = 600)"
   ]
  },
  {
   "cell_type": "code",
   "execution_count": null,
   "metadata": {},
   "outputs": [],
   "source": [
    "display(book_tabs)"
   ]
  },
  {
   "cell_type": "markdown",
   "metadata": {},
   "source": [
    "### Show the annotations and blocks of a page"
   ]
  },
  {
   "cell_type": "code",
   "execution_count": null,
   "metadata": {},
   "outputs": [],
   "source": [
    "page_number = 0\n",
    "block_sumary = get_blocks_summary(book[page_number])\n",
    "block_sumary"
   ]
  },
  {
   "cell_type": "code",
   "execution_count": null,
   "metadata": {},
   "outputs": [],
   "source": [
    "book_tabs = get_page_figure_widget(book[page_number], width = 600)\n",
    "book_tabs"
   ]
  },
  {
   "cell_type": "markdown",
   "metadata": {},
   "source": [
    "# 3. Guessing chapters and subections\n",
    "\n",
    "One of the main things we need to know is develop a logic that tells us when chapters and sections start. This is important to later organize the obsidian notes accordingly."
   ]
  },
  {
   "cell_type": "markdown",
   "metadata": {},
   "source": [
    "## 3.1 Initial rule-thumb round of prediction\n",
    "\n",
    "In this round we start by a rule of thumb on how to identify the chapters and subsections based on individual blocks. Later we will use machine learning to optimize them."
   ]
  },
  {
   "cell_type": "markdown",
   "metadata": {},
   "source": [
    "### Get initial chapter blocks"
   ]
  },
  {
   "cell_type": "code",
   "execution_count": null,
   "metadata": {},
   "outputs": [],
   "source": [
    "chapter_blocks = get_book_filtered_blocks(book, is_ecce_hommo_chapter)\n",
    "chapter_blocks"
   ]
  },
  {
   "cell_type": "markdown",
   "metadata": {},
   "source": [
    "### Get initial subsection blocks"
   ]
  },
  {
   "cell_type": "code",
   "execution_count": null,
   "metadata": {},
   "outputs": [],
   "source": [
    "subsection_blocks = get_book_filtered_blocks(book, is_ecce_hommo_subsection)\n",
    "subsection_blocks"
   ]
  },
  {
   "cell_type": "markdown",
   "metadata": {},
   "source": [
    "## 3.2 Use machine learning to improve the indiviual block predictions"
   ]
  },
  {
   "cell_type": "markdown",
   "metadata": {},
   "source": [
    "\n",
    "Once we have a fair enough set of valid points, we can filter out the outliers and rerun the search again with the new configuration.\n"
   ]
  },
  {
   "cell_type": "markdown",
   "metadata": {},
   "source": [
    "### 3.2.3 Filter out outlier chapters"
   ]
  },
  {
   "cell_type": "markdown",
   "metadata": {},
   "source": [
    "Select columns for chapter machine learning"
   ]
  },
  {
   "cell_type": "code",
   "execution_count": null,
   "metadata": {},
   "outputs": [],
   "source": [
    "columns_od_chapter = [\"y1\", \"block_no\", \"height\"] # Columns to be used for prediction"
   ]
  },
  {
   "cell_type": "code",
   "execution_count": null,
   "metadata": {},
   "outputs": [],
   "source": [
    "chapter_predictor, chapter_blocks_outlier_dataset = get_and_join_outlier_series(chapter_blocks[columns_od_chapter])"
   ]
  },
  {
   "cell_type": "markdown",
   "metadata": {},
   "source": [
    "#### Plot outliers found"
   ]
  },
  {
   "cell_type": "code",
   "execution_count": null,
   "metadata": {},
   "outputs": [],
   "source": [
    "fig = px.scatter_matrix(chapter_blocks_outlier_dataset,color=\"outliers\")\n",
    "fig.show()"
   ]
  },
  {
   "cell_type": "markdown",
   "metadata": {},
   "source": [
    "#### Re-process the blocks with the learned model"
   ]
  },
  {
   "cell_type": "code",
   "execution_count": null,
   "metadata": {},
   "outputs": [],
   "source": [
    "is_valid_chapter_block = modify_predictor(chapter_predictor, columns_od_chapter)\n",
    "chapter_blocks_machine_learning = get_book_filtered_blocks(book, is_valid_chapter_block)\n",
    "chapter_blocks_machine_learning"
   ]
  },
  {
   "cell_type": "markdown",
   "metadata": {},
   "source": [
    "### 3.2.2 Filter out outlier subsections"
   ]
  },
  {
   "cell_type": "code",
   "execution_count": null,
   "metadata": {},
   "outputs": [],
   "source": [
    "columns_od_subsection = [\"x0\",\"x1\", \"height\"] # Columns to be used for prediction"
   ]
  },
  {
   "cell_type": "code",
   "execution_count": null,
   "metadata": {},
   "outputs": [],
   "source": [
    "subsection_predictor, subsection_blocks_outlier_dataset = get_and_join_outlier_series(subsection_blocks[columns_od_subsection])"
   ]
  },
  {
   "cell_type": "markdown",
   "metadata": {},
   "source": [
    "#### Plot outliers found"
   ]
  },
  {
   "cell_type": "code",
   "execution_count": null,
   "metadata": {},
   "outputs": [],
   "source": [
    "fig = px.scatter_matrix(subsection_blocks_outlier_dataset,color=\"outliers\")\n",
    "fig.show()"
   ]
  },
  {
   "cell_type": "markdown",
   "metadata": {},
   "source": [
    "#### Re-process the blocks with the learned model"
   ]
  },
  {
   "cell_type": "code",
   "execution_count": null,
   "metadata": {},
   "outputs": [],
   "source": [
    "is_valid_subsection_block = modify_predictor(subsection_predictor, columns_od_subsection)\n",
    "subsection_blocks_machine_learning = get_book_filtered_blocks(book, is_valid_subsection_block)\n",
    "subsection_blocks_machine_learning"
   ]
  },
  {
   "cell_type": "markdown",
   "metadata": {},
   "source": [
    "# Create vault with the quotes\n",
    "\n",
    "Assuming that the chapters and subsections have been successfully generated (possibly with some human help in the end) now we can generate the structure of files."
   ]
  },
  {
   "cell_type": "markdown",
   "metadata": {},
   "source": [
    "## 1. Get the (chapter_blocks, subsections_blocks, annotations_blocks)"
   ]
  },
  {
   "cell_type": "code",
   "execution_count": null,
   "metadata": {},
   "outputs": [],
   "source": [
    "chapter_blocks = chapter_blocks\n",
    "subsections_blocks = subsection_blocks_machine_learning"
   ]
  },
  {
   "cell_type": "code",
   "execution_count": null,
   "metadata": {},
   "outputs": [],
   "source": [
    "annotations_blocks = extract_book_annotations(book)"
   ]
  },
  {
   "cell_type": "code",
   "execution_count": null,
   "metadata": {},
   "outputs": [],
   "source": [
    "annotations_blocks"
   ]
  },
  {
   "cell_type": "markdown",
   "metadata": {},
   "source": [
    "## 2. Create folder structure. \n",
    "\n",
    "What it does is:\n",
    "- It computes to which chapter and subsection each annotation belogns to.\n",
    "- For each (chapter, subsection):\n",
    "    - Create corresponding path \"chapter/subsection/\" path\n",
    "    - Add quote to the file \"chapter/subsection/subsection.md\"\n",
    "   "
   ]
  },
  {
   "cell_type": "code",
   "execution_count": null,
   "metadata": {},
   "outputs": [],
   "source": [
    "vault_path = EXAMPLE_ECCE_HOMMO_VAULT_PATH"
   ]
  },
  {
   "cell_type": "code",
   "execution_count": null,
   "metadata": {},
   "outputs": [],
   "source": [
    "ecce_hommo_vault = get_vault_df_from_pdf(chapter_blocks, subsection_blocks, annotations_blocks, vault_path)"
   ]
  },
  {
   "cell_type": "code",
   "execution_count": null,
   "metadata": {},
   "outputs": [],
   "source": [
    "ecce_hommo_vault"
   ]
  },
  {
   "cell_type": "code",
   "execution_count": null,
   "metadata": {},
   "outputs": [],
   "source": [
    "save_vault(ecce_hommo_vault)"
   ]
  },
  {
   "cell_type": "markdown",
   "metadata": {},
   "source": [
    "## 3. Load folder structure"
   ]
  },
  {
   "cell_type": "code",
   "execution_count": null,
   "metadata": {},
   "outputs": [],
   "source": [
    "vault_files = load_vault(vault_path)"
   ]
  },
  {
   "cell_type": "code",
   "execution_count": null,
   "metadata": {},
   "outputs": [],
   "source": [
    "vault_files"
   ]
  },
  {
   "cell_type": "code",
   "execution_count": null,
   "metadata": {},
   "outputs": [],
   "source": []
  }
 ],
 "metadata": {
  "kernelspec": {
   "display_name": "Python 3",
   "language": "python",
   "name": "python3"
  },
  "language_info": {
   "codemirror_mode": {
    "name": "ipython",
    "version": 3
   },
   "file_extension": ".py",
   "mimetype": "text/x-python",
   "name": "python",
   "nbconvert_exporter": "python",
   "pygments_lexer": "ipython3",
   "version": "3.6.9"
  }
 },
 "nbformat": 4,
 "nbformat_minor": 4
}
