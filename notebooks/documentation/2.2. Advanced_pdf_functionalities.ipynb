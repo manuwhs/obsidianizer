{
 "cells": [
  {
   "cell_type": "markdown",
   "metadata": {},
   "source": [
    "# Basic pdf functionalities\n",
    "\n",
    "This notebook contains a set of functionalities related to pdf processing."
   ]
  },
  {
   "cell_type": "code",
   "execution_count": null,
   "metadata": {},
   "outputs": [],
   "source": [
    "%load_ext autoreload\n",
    "%autoreload 2\n",
    "\n",
    "import fitz\n",
    "from obsidianizer.pdf_tools.annotations import extract_annotation, AnnotationExtractionMode\n",
    "from obsidianizer.pdf_tools.pages import extract_page_annotations, get_blocks_summary, get_words_data_frame\n",
    "from obsidianizer.pdf_tools.plots import get_rectangles_from_data_frame\n",
    "from IPython.display import display\n",
    "\n",
    "import plotly.graph_objects as go\n",
    "\n",
    "from obsidianizer.pdf_tools.page_plots import get_page_figure_widget, get_book_figure_widget\n",
    "from obsidianizer import EXAMPLE_ECCE_HOMMO_PDF_PATH\n",
    "\n",
    "import fitz\n",
    "from obsidianizer.obsidian.vault import load_vault, save_vault\n",
    "from obsidianizer.obsidian.transformations import join_vaults, create_common_words_vault\n",
    "from obsidianizer.obsidian.journal_tools import get_vault_df_from_journal, get_journal_entries_from_vault\n",
    "from obsidianizer.latex_tools.utils import load_drafts_entries\n",
    "from obsidianizer.latex_tools.journal_processing import get_sentences\n",
    "from obsidianizer.pdf_tools.ecce_homo import is_ecce_hommo_chapter, is_ecce_hommo_subsection\n",
    "from obsidianizer.pdf_tools.documents import get_book_filtered_blocks, extract_book_annotations\n",
    "from obsidianizer.obsidian.pdf_tools import get_vault_df_from_pdf, get_vault_df_from_pdf_by_page\n",
    "from obsidianizer.latex_tools.utils import load_drafts_entries, save_cleaned_sentences_to_latex, print_differences_in_journals\n",
    "from obsidianizer.obsidian.utils import get_duplicated_vault_keywords, get_vault_df_unique_backlinks, get_backlinks, get_subbacklinks_from_other_backlinks, add_sublinks_to_vault_df\n",
    "\n",
    "from obsidianizer.nlp.text_cleanup import get_most_used_words\n",
    "from obsidianizer.nlp.text_cleanup import remove_stop_words_en\n",
    "import glob\n",
    "import pandas as pd\n",
    "import numpy as np\n",
    "from obsidianizer.utils.unwrapper import unwrap"
   ]
  },
  {
   "cell_type": "markdown",
   "metadata": {},
   "source": [
    "# 4. Batch processing of pdfs\n",
    "\n",
    "Ideally we would like to automatically process all the pdfs in a given folder."
   ]
  },
  {
   "cell_type": "code",
   "execution_count": null,
   "metadata": {},
   "outputs": [],
   "source": [
    "path = \"../../../knowledge/Books/Improvement/\""
   ]
  },
  {
   "cell_type": "code",
   "execution_count": null,
   "metadata": {},
   "outputs": [],
   "source": [
    "filepaths = [f for f in glob.glob(path + \"**/*.pdf\", recursive=True)]"
   ]
  },
  {
   "cell_type": "code",
   "execution_count": null,
   "metadata": {},
   "outputs": [],
   "source": [
    "filepaths"
   ]
  },
  {
   "cell_type": "code",
   "execution_count": null,
   "metadata": {},
   "outputs": [],
   "source": [
    "doc = fitz.open(filepaths[1]) \n",
    "book = doc"
   ]
  },
  {
   "cell_type": "code",
   "execution_count": null,
   "metadata": {},
   "outputs": [],
   "source": [
    "chapter_blocks = get_book_filtered_blocks(book, lambda x: \"~~~~~~~\" in x[\"words\"])"
   ]
  },
  {
   "cell_type": "markdown",
   "metadata": {},
   "source": [
    "# 5. Class to contain all the information about a given pdf."
   ]
  },
  {
   "cell_type": "code",
   "execution_count": null,
   "metadata": {},
   "outputs": [],
   "source": [
    "class PDF():\n",
    "    def __init__(self, filepath: str):\n",
    "        self.filepath = filepath\n",
    "        \n",
    "        "
   ]
  },
  {
   "cell_type": "markdown",
   "metadata": {},
   "source": [
    "Create this class in the future which will contain all the information necessary to compute the vault, modify it, store the subsections and sections to disk for future reference... Create convention of naming... unique folder with:\n",
    "- pdf\n",
    "- annotations\n",
    "- section\n",
    "- subsection\n",
    "\n",
    "Functionalities to read from disk, save and reload, modify pdf... "
   ]
  },
  {
   "cell_type": "markdown",
   "metadata": {},
   "source": [
    "# 6 Adding annotations\n",
    "\n",
    "Sometimes we would like to modify the annotations"
   ]
  },
  {
   "cell_type": "markdown",
   "metadata": {},
   "source": [
    "# I think I will have to desist  in this idea. Pymupdf cannot do ocr on its own and the tool I use, ocrmypdf, changes the format of the pdf, like the boundaries of the boxes, and the format of the info so it quite hard for me to align them, in the future people should simply ocr the document before they highlight them."
   ]
  },
  {
   "cell_type": "markdown",
   "metadata": {},
   "source": [
    "## Maybe there is hope although I should first come up with a way of aligning the test."
   ]
  },
  {
   "cell_type": "markdown",
   "metadata": {},
   "source": [
    "## I need to set up all the necesary fields of the annotations and handle subcomments and so on. "
   ]
  },
  {
   "cell_type": "markdown",
   "metadata": {},
   "source": [
    "## Copy annotation from one book to the other"
   ]
  },
  {
   "cell_type": "code",
   "execution_count": null,
   "metadata": {},
   "outputs": [],
   "source": [
    "book_with_annotations_no_ocr = fitz.open('../../../knowledge/Books/Improvement/49 laws to power.pdf') \n",
    "book_with_ocr_no_annotations = fitz.open('../../../knowledge/Books/Improvement/caca2.pdf') "
   ]
  },
  {
   "cell_type": "code",
   "execution_count": null,
   "metadata": {},
   "outputs": [],
   "source": [
    "page_index = 19 \n",
    "\n",
    "annotated_page = book_with_annotations_no_ocr[page_index]\n",
    "to_be_annotated_page = book_with_ocr_no_annotations[page_index]\n",
    "\n",
    "annotation = annotated_page.firstAnnot"
   ]
  },
  {
   "cell_type": "code",
   "execution_count": null,
   "metadata": {},
   "outputs": [],
   "source": [
    "annotated_page.getTextBlocks()"
   ]
  },
  {
   "cell_type": "code",
   "execution_count": null,
   "metadata": {},
   "outputs": [],
   "source": [
    "to_be_annotated_page"
   ]
  },
  {
   "cell_type": "code",
   "execution_count": null,
   "metadata": {},
   "outputs": [],
   "source": [
    "annotation.type"
   ]
  },
  {
   "cell_type": "code",
   "execution_count": null,
   "metadata": {},
   "outputs": [],
   "source": [
    "if annotation.type[1] == \"Highlight\":\n",
    "    \n",
    "    # Correct for page missalignment due to ocr modifying the rect of the page.\n",
    "    diplacement = (to_be_annotated_page.rect - annotated_page.rect)[2:4]\n",
    "    diplacement = np.array(diplacement)/2\n",
    "    new_annot_vertices = np.array(annotation.vertices ) + diplacement\n",
    "    new_annot_vertices = list(new_annot_vertices)\n",
    "    \n",
    "    # Create annotation\n",
    "    new_annot = to_be_annotated_page.addHighlightAnnot(new_annot_vertices)\n",
    "    \n",
    "    # Set other things up\n",
    "    new_annot.set_info(annotation.info)\n",
    "    new_annot.set_border(annotation.border)\n",
    "    new_annot.update()"
   ]
  },
  {
   "cell_type": "code",
   "execution_count": null,
   "metadata": {},
   "outputs": [],
   "source": [
    "new_annot_vertices = annotation.vertices\n",
    "diplacement = (to_be_annotated_page.rect - annotated_page.rect)[2:4]\n",
    "diplacement = np.array(diplacement)/2"
   ]
  },
  {
   "cell_type": "code",
   "execution_count": null,
   "metadata": {},
   "outputs": [],
   "source": [
    "new_annot_vertices"
   ]
  },
  {
   "cell_type": "code",
   "execution_count": null,
   "metadata": {},
   "outputs": [],
   "source": [
    "to_be_annotated_page.rect"
   ]
  },
  {
   "cell_type": "code",
   "execution_count": null,
   "metadata": {},
   "outputs": [],
   "source": [
    "annotated_page.rect - to_be_annotated_page.rect"
   ]
  },
  {
   "cell_type": "code",
   "execution_count": null,
   "metadata": {},
   "outputs": [],
   "source": [
    "to_be_annotated_page.rect"
   ]
  },
  {
   "cell_type": "code",
   "execution_count": null,
   "metadata": {},
   "outputs": [],
   "source": [
    "new_annot.border\n"
   ]
  },
  {
   "cell_type": "code",
   "execution_count": null,
   "metadata": {},
   "outputs": [],
   "source": [
    "book_with_ocr_no_annotations.save('../../../knowledge/Books/Improvement/annotated.pdf')"
   ]
  },
  {
   "cell_type": "markdown",
   "metadata": {},
   "source": [
    "# Idea: Write the section and subsection from highlights with a XX elements in it. \n",
    "\n",
    "I do would like to have them separated like that because then you can see more easily what a chapter is about. Having a document which contains references to all the backlinks in the chapter."
   ]
  },
  {
   "cell_type": "code",
   "execution_count": null,
   "metadata": {},
   "outputs": [],
   "source": []
  }
 ],
 "metadata": {
  "kernelspec": {
   "display_name": "Python 3",
   "language": "python",
   "name": "python3"
  },
  "language_info": {
   "codemirror_mode": {
    "name": "ipython",
    "version": 3
   },
   "file_extension": ".py",
   "mimetype": "text/x-python",
   "name": "python",
   "nbconvert_exporter": "python",
   "pygments_lexer": "ipython3",
   "version": "3.6.9"
  }
 },
 "nbformat": 4,
 "nbformat_minor": 4
}
