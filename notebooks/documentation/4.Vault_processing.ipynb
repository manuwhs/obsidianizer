{
 "cells": [
  {
   "cell_type": "markdown",
   "metadata": {},
   "source": [
    "# Vault functionalities\n",
    "\n",
    "In this example we will use the Ecce Hommo book from Walter Kauffman. \n",
    "It is an scanned work so there is some uncertainty in the OCR that we should overcome with some rules of thumb and basic statistics.\n"
   ]
  },
  {
   "cell_type": "code",
   "execution_count": null,
   "metadata": {},
   "outputs": [],
   "source": [
    "%load_ext autoreload\n",
    "%autoreload 2\n",
    "\n",
    "import fitz\n",
    "from obsidianizer.obsidian.vault import load_vault, save_vault\n",
    "from obsidianizer.obsidian.transformations import join_vaults, create_common_words_vault\n",
    "from obsidianizer.obsidian.journal_tools import get_vault_df_from_journal, get_journal_entries_from_vault\n",
    "from obsidianizer.latex_tools.utils import load_drafts_entries\n",
    "from obsidianizer.latex_tools.journal_processing import get_sentences\n",
    "from obsidianizer.pdf_tools.ecce_homo import is_ecce_hommo_chapter, is_ecce_hommo_subsection\n",
    "from obsidianizer.pdf_tools.documents import get_book_filtered_blocks, extract_book_annotations\n",
    "from obsidianizer.obsidian.pdf_tools import get_vault_df_from_pdf\n",
    "from obsidianizer.latex_tools.utils import load_drafts_entries, save_cleaned_sentences_to_latex, print_differences_in_journals\n",
    "from obsidianizer import EXAMPLE_VAULT_NIETZSCHE_PATH, EXAMPLE_VAULT_SAVE_TO__PATH, EXAMPLE_VAULT_PATH\n",
    "from obsidianizer import EXAMPLE_JOURNAL_PATH, EXAMPLE_CLEANED_JOURNAL_PATH, EXAMPLE_ECCE_HOMMO_PDF_PATH, EXAMPLE_ECCE_HOMMO_VAULT_PATH"
   ]
  },
  {
   "cell_type": "markdown",
   "metadata": {},
   "source": [
    "# 1 Loading and saving vaults\n",
    "\n",
    "Explain the structure of the dataframe."
   ]
  },
  {
   "cell_type": "markdown",
   "metadata": {},
   "source": [
    "## 1.1 Load vault folder\n",
    "\n",
    "The loaded vault could be different from the one to write since the filepaths could be overlappings."
   ]
  },
  {
   "cell_type": "code",
   "execution_count": null,
   "metadata": {},
   "outputs": [],
   "source": [
    "filepath = EXAMPLE_VAULT_NIETZSCHE_PATH"
   ]
  },
  {
   "cell_type": "code",
   "execution_count": null,
   "metadata": {},
   "outputs": [],
   "source": [
    "filepath"
   ]
  },
  {
   "cell_type": "code",
   "execution_count": null,
   "metadata": {},
   "outputs": [],
   "source": [
    "vault_files = load_vault(filepath)\n",
    "vault_files"
   ]
  },
  {
   "cell_type": "markdown",
   "metadata": {},
   "source": [
    "## 1.2 Store vault "
   ]
  },
  {
   "cell_type": "code",
   "execution_count": null,
   "metadata": {},
   "outputs": [],
   "source": [
    "saved_vault_path = EXAMPLE_VAULT_SAVE_TO__PATH\n",
    "save_vault(vault_files, saved_vault_path)"
   ]
  },
  {
   "cell_type": "markdown",
   "metadata": {},
   "source": [
    "# 2. Creating vaults"
   ]
  },
  {
   "cell_type": "markdown",
   "metadata": {},
   "source": [
    "## 2.1 From list of words"
   ]
  },
  {
   "cell_type": "code",
   "execution_count": null,
   "metadata": {},
   "outputs": [],
   "source": [
    "common_words_vault = create_common_words_vault([\"Hello\", \"my\", \"friend\"], \"./my_fake_vault\")\n",
    "common_words_vault"
   ]
  },
  {
   "cell_type": "markdown",
   "metadata": {},
   "source": [
    "## 2.2 From journal\n",
    "\n",
    "Convert the journal dataframe into the equivalent vault dataframe."
   ]
  },
  {
   "cell_type": "code",
   "execution_count": null,
   "metadata": {},
   "outputs": [],
   "source": [
    "journal_filepath = EXAMPLE_JOURNAL_PATH\n",
    "vault_filepath  = EXAMPLE_VAULT_PATH"
   ]
  },
  {
   "cell_type": "code",
   "execution_count": null,
   "metadata": {},
   "outputs": [],
   "source": [
    "journal_df = load_drafts_entries(journal_filepath)\n",
    "journal_df = get_sentences(journal_df)"
   ]
  },
  {
   "cell_type": "code",
   "execution_count": null,
   "metadata": {},
   "outputs": [],
   "source": [
    "journal_df"
   ]
  },
  {
   "cell_type": "code",
   "execution_count": null,
   "metadata": {},
   "outputs": [],
   "source": [
    "vault_journal_df = get_vault_df_from_journal(journal_df, vault_filepath)"
   ]
  },
  {
   "cell_type": "code",
   "execution_count": null,
   "metadata": {},
   "outputs": [],
   "source": [
    "vault_journal_df"
   ]
  },
  {
   "cell_type": "code",
   "execution_count": null,
   "metadata": {},
   "outputs": [],
   "source": [
    "save_vault(vault_journal_df)"
   ]
  },
  {
   "cell_type": "markdown",
   "metadata": {},
   "source": [
    "### Get data_entries from vault\n",
    "\n",
    "Convert a vault into the given entries so that we can have different iterations of the journal from obsidian and back in order to add the labelling."
   ]
  },
  {
   "cell_type": "code",
   "execution_count": null,
   "metadata": {},
   "outputs": [],
   "source": [
    "journal_df_reloaded = get_journal_entries_from_vault(vault_journal_df)\n",
    "journal_df_reloaded = get_sentences(journal_df_reloaded)"
   ]
  },
  {
   "cell_type": "code",
   "execution_count": null,
   "metadata": {},
   "outputs": [],
   "source": [
    "journal_df_reloaded"
   ]
  },
  {
   "cell_type": "code",
   "execution_count": null,
   "metadata": {},
   "outputs": [],
   "source": [
    "weird_indices,weird_sentence_within_index  = print_differences_in_journals(journal_df_reloaded, journal_df)"
   ]
  },
  {
   "cell_type": "code",
   "execution_count": null,
   "metadata": {},
   "outputs": [],
   "source": [
    "weird_indices"
   ]
  },
  {
   "cell_type": "markdown",
   "metadata": {},
   "source": [
    "## 2.3 From pdfs"
   ]
  },
  {
   "cell_type": "code",
   "execution_count": null,
   "metadata": {},
   "outputs": [],
   "source": [
    "doc = fitz.open(EXAMPLE_ECCE_HOMMO_PDF_PATH) \n",
    "book = [doc[i] for i in range(224,334)]\n",
    "\n",
    "chapter_blocks = get_book_filtered_blocks(book, is_ecce_hommo_chapter)\n",
    "subsection_blocks = get_book_filtered_blocks(book, is_ecce_hommo_subsection)\n",
    "annotations_blocks = extract_book_annotations(book)"
   ]
  },
  {
   "cell_type": "code",
   "execution_count": null,
   "metadata": {},
   "outputs": [],
   "source": [
    "ecce_hommo_vault = get_vault_df_from_pdf(chapter_blocks, subsection_blocks, annotations_blocks, EXAMPLE_ECCE_HOMMO_VAULT_PATH)"
   ]
  },
  {
   "cell_type": "code",
   "execution_count": null,
   "metadata": {},
   "outputs": [],
   "source": [
    "ecce_hommo_vault"
   ]
  },
  {
   "cell_type": "markdown",
   "metadata": {},
   "source": [
    "# 3. Vault transformations"
   ]
  },
  {
   "cell_type": "markdown",
   "metadata": {},
   "source": [
    "## Join vaults"
   ]
  },
  {
   "cell_type": "code",
   "execution_count": null,
   "metadata": {},
   "outputs": [],
   "source": [
    "ultimate_vault = join_vaults(vault_df, common_words_vault)"
   ]
  }
 ],
 "metadata": {
  "kernelspec": {
   "display_name": "Python 3",
   "language": "python",
   "name": "python3"
  },
  "language_info": {
   "codemirror_mode": {
    "name": "ipython",
    "version": 3
   },
   "file_extension": ".py",
   "mimetype": "text/x-python",
   "name": "python",
   "nbconvert_exporter": "python",
   "pygments_lexer": "ipython3",
   "version": "3.6.9"
  }
 },
 "nbformat": 4,
 "nbformat_minor": 4
}
