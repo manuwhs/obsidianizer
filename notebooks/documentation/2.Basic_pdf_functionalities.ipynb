{
 "cells": [
  {
   "cell_type": "markdown",
   "metadata": {},
   "source": [
    "# Basic pdf functionalities\n",
    "\n",
    "This notebook contains a set of functionalities related to pdf processing."
   ]
  },
  {
   "cell_type": "code",
   "execution_count": null,
   "metadata": {},
   "outputs": [],
   "source": [
    "%load_ext autoreload\n",
    "%autoreload 2\n",
    "\n",
    "import fitz\n",
    "from obsidianizer.pdf_tools.annotations import extract_annotation, AnnotationExtractionMode\n",
    "from obsidianizer.pdf_tools.pages import extract_page_annotations, get_blocks_summary, get_words_data_frame\n",
    "from obsidianizer.pdf_tools.plots import get_rectangles_from_data_frame\n",
    "from IPython.display import display\n",
    "\n",
    "import plotly.graph_objects as go\n",
    "\n",
    "from obsidianizer.pdf_tools.page_plots import get_page_figure_widget, get_book_figure_widget\n",
    "from obsidianizer import EXAMPLE_ECCE_HOMMO_PDF_PATH"
   ]
  },
  {
   "cell_type": "markdown",
   "metadata": {},
   "source": [
    "## Loading of the pdf document"
   ]
  },
  {
   "cell_type": "code",
   "execution_count": null,
   "metadata": {},
   "outputs": [],
   "source": [
    "doc = fitz.open(EXAMPLE_ECCE_HOMMO_PDF_PATH) "
   ]
  },
  {
   "cell_type": "markdown",
   "metadata": {},
   "source": [
    "## 2. Page functionalities\n",
    "\n",
    "Set of functionalities related to a page. First we subselect a page index"
   ]
  },
  {
   "cell_type": "code",
   "execution_count": null,
   "metadata": {},
   "outputs": [],
   "source": [
    "page = doc[231]"
   ]
  },
  {
   "cell_type": "markdown",
   "metadata": {},
   "source": [
    "### Get individual words in a dataframe\n",
    "\n",
    "For each word we have also its rectangle coordinates, and the block, line and word number they belong to."
   ]
  },
  {
   "cell_type": "code",
   "execution_count": null,
   "metadata": {},
   "outputs": [],
   "source": [
    "df_words = get_words_data_frame(page)\n",
    "df_words"
   ]
  },
  {
   "cell_type": "markdown",
   "metadata": {},
   "source": [
    "### Get summary statistics of the block codes"
   ]
  },
  {
   "cell_type": "markdown",
   "metadata": {},
   "source": [
    "The statistics are:\n",
    "- The  words it contain\n",
    "- The rectangle that would contain the entire block x0, x1, y0, y1\n",
    "- The number of lines it contains.\n",
    "- The height and width of the block."
   ]
  },
  {
   "cell_type": "code",
   "execution_count": null,
   "metadata": {},
   "outputs": [],
   "source": [
    "block_sumary = get_blocks_summary(page)\n",
    "block_sumary"
   ]
  },
  {
   "cell_type": "markdown",
   "metadata": {},
   "source": [
    "### Get annotations in a page\n",
    "\n",
    "Get the annotations within a page and the rectangle that surounds them.\n",
    "- highlighted_text: The original text in the pdf document that was highlighted.\n",
    "- annotation_text: The associated text to the annotation."
   ]
  },
  {
   "cell_type": "code",
   "execution_count": null,
   "metadata": {},
   "outputs": [],
   "source": [
    "AnnotationExtractionMode.list()"
   ]
  },
  {
   "cell_type": "code",
   "execution_count": null,
   "metadata": {},
   "outputs": [],
   "source": [
    "annotations_df = extract_page_annotations(page, mode = AnnotationExtractionMode.ENTIRE_LINES)\n",
    "annotations_df"
   ]
  },
  {
   "cell_type": "markdown",
   "metadata": {},
   "source": [
    "### Plot Page figure\n",
    "\n",
    "The following plots the blocks, words and annotations of the page."
   ]
  },
  {
   "cell_type": "code",
   "execution_count": null,
   "metadata": {},
   "outputs": [],
   "source": [
    "fig = get_page_figure_widget(page, width = 600)"
   ]
  },
  {
   "cell_type": "code",
   "execution_count": null,
   "metadata": {},
   "outputs": [],
   "source": [
    "fig.show()"
   ]
  },
  {
   "cell_type": "markdown",
   "metadata": {},
   "source": [
    "## 3. Document functions\n",
    "\n",
    "Gathering of functions related to a document. \n",
    "A document is just a list of pages, but there is a lot to play with when having to guess across pages."
   ]
  },
  {
   "cell_type": "code",
   "execution_count": null,
   "metadata": {},
   "outputs": [],
   "source": [
    "book = [doc[i] for i in range(230,235)]"
   ]
  },
  {
   "cell_type": "markdown",
   "metadata": {},
   "source": [
    "### Plot the pages of the document"
   ]
  },
  {
   "cell_type": "code",
   "execution_count": null,
   "metadata": {},
   "outputs": [],
   "source": [
    "book_tabs = get_book_figure_widget(book, width = 600)"
   ]
  },
  {
   "cell_type": "code",
   "execution_count": null,
   "metadata": {},
   "outputs": [],
   "source": [
    "display(book_tabs)"
   ]
  },
  {
   "cell_type": "markdown",
   "metadata": {},
   "source": [
    "# TODO: Add all the getting the subsection and sections, and then transformaing to vault maybe as well"
   ]
  },
  {
   "cell_type": "markdown",
   "metadata": {},
   "source": [
    "# 4. Batch processing of pdfs\n",
    "\n",
    "Ideally we would like to automatically process all the pdfs in a given folder."
   ]
  },
  {
   "cell_type": "code",
   "execution_count": null,
   "metadata": {},
   "outputs": [],
   "source": [
    "path = \"../../../knowledge/Books/Improvement/\""
   ]
  },
  {
   "cell_type": "code",
   "execution_count": null,
   "metadata": {},
   "outputs": [],
   "source": [
    "import glob\n",
    "filepaths = [f for f in glob.glob(path + \"**/*.pdf\", recursive=True)]"
   ]
  },
  {
   "cell_type": "code",
   "execution_count": null,
   "metadata": {},
   "outputs": [],
   "source": [
    "filepaths"
   ]
  },
  {
   "cell_type": "code",
   "execution_count": null,
   "metadata": {},
   "outputs": [],
   "source": [
    "import fitz\n",
    "from obsidianizer.obsidian.vault import load_vault, save_vault\n",
    "from obsidianizer.obsidian.transformations import join_vaults, create_common_words_vault\n",
    "from obsidianizer.obsidian.journal_tools import get_vault_df_from_journal, get_journal_entries_from_vault\n",
    "from obsidianizer.latex_tools.utils import load_drafts_entries\n",
    "from obsidianizer.latex_tools.journal_processing import get_sentences\n",
    "from obsidianizer.pdf_tools.ecce_homo import is_ecce_hommo_chapter, is_ecce_hommo_subsection\n",
    "from obsidianizer.pdf_tools.documents import get_book_filtered_blocks, extract_book_annotations\n",
    "from obsidianizer.obsidian.pdf_tools import get_vault_df_from_pdf, get_vault_df_from_pdf_by_page\n",
    "from obsidianizer.latex_tools.utils import load_drafts_entries, save_cleaned_sentences_to_latex, print_differences_in_journals\n",
    "from obsidianizer.obsidian.utils import get_duplicated_vault_keywords, get_vault_df_unique_backlinks, get_backlinks, get_subbacklinks_from_other_backlinks, add_sublinks_to_vault_df\n"
   ]
  },
  {
   "cell_type": "code",
   "execution_count": null,
   "metadata": {},
   "outputs": [],
   "source": [
    "doc = fitz.open(filepaths[0]) \n",
    "book = doc\n",
    "\n",
    "chapter_blocks = get_book_filtered_blocks(book, lambda x: \"~~~~~~~\" in x[\"words\"])\n"
   ]
  },
  {
   "cell_type": "code",
   "execution_count": null,
   "metadata": {},
   "outputs": [],
   "source": [
    "chapter_blocks[\"words\"]"
   ]
  },
  {
   "cell_type": "code",
   "execution_count": null,
   "metadata": {},
   "outputs": [],
   "source": [
    "subsection_blocks = get_book_filtered_blocks(book, is_ecce_hommo_subsection)\n",
    "annotations_blocks = extract_book_annotations(book, mode = AnnotationExtractionMode.ENTIRE_LINES)"
   ]
  },
  {
   "cell_type": "code",
   "execution_count": null,
   "metadata": {},
   "outputs": [],
   "source": [
    "annotations_blocks"
   ]
  },
  {
   "cell_type": "code",
   "execution_count": null,
   "metadata": {},
   "outputs": [],
   "source": [
    "book_vault = get_vault_df_from_pdf_by_page(annotations_blocks, path +\"book/\")"
   ]
  },
  {
   "cell_type": "code",
   "execution_count": null,
   "metadata": {},
   "outputs": [],
   "source": [
    "book_vault"
   ]
  },
  {
   "cell_type": "code",
   "execution_count": null,
   "metadata": {},
   "outputs": [],
   "source": [
    "save_vault(book_vault)"
   ]
  },
  {
   "cell_type": "code",
   "execution_count": null,
   "metadata": {},
   "outputs": [],
   "source": [
    "from obsidianizer.nlp.text_cleanup import remove_stop_words"
   ]
  },
  {
   "cell_type": "code",
   "execution_count": null,
   "metadata": {},
   "outputs": [],
   "source": [
    "words = remove_stop_words(annotations_blocks[\"highlighted_text\"])"
   ]
  },
  {
   "cell_type": "markdown",
   "metadata": {},
   "source": [
    "# 5. Class to contain all the information about a given pdf."
   ]
  },
  {
   "cell_type": "code",
   "execution_count": null,
   "metadata": {},
   "outputs": [],
   "source": [
    "class PDF():\n",
    "    def __init__(self, filepath: str):\n",
    "        self.filepath = filepath\n",
    "        \n",
    "        "
   ]
  },
  {
   "cell_type": "markdown",
   "metadata": {},
   "source": [
    "Create this class in the future which will contain all the information necessary to compute the vault, modify it, store the subsections and sections to disk for future reference... Create convention of naming... unique folder with:\n",
    "- pdf\n",
    "- annotations\n",
    "- section\n",
    "- subsection\n",
    "\n",
    "Functionalities to read from disk, save and reload, modify pdf... "
   ]
  }
 ],
 "metadata": {
  "kernelspec": {
   "display_name": "Python 3",
   "language": "python",
   "name": "python3"
  },
  "language_info": {
   "codemirror_mode": {
    "name": "ipython",
    "version": 3
   },
   "file_extension": ".py",
   "mimetype": "text/x-python",
   "name": "python",
   "nbconvert_exporter": "python",
   "pygments_lexer": "ipython3",
   "version": "3.6.9"
  }
 },
 "nbformat": 4,
 "nbformat_minor": 4
}
