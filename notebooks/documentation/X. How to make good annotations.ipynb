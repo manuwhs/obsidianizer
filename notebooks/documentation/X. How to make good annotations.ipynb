{
 "cells": [
  {
   "cell_type": "markdown",
   "metadata": {},
   "source": [
    "## How to make good annotations"
   ]
  },
  {
   "cell_type": "markdown",
   "metadata": {},
   "source": [
    "The goal of this notebook is to gather thoughts on how to make the best possible [[backlinks]] both in pdf and the journals so that the knowledge is as reusable and combinable as possible.\n",
    "\n",
    "\n",
    "### What not to do\n",
    "\n",
    "Avoid synonyms or have some mappying\n",
    "\n",
    "### Parallel stories\n",
    "\n",
    "I feel a bit like discovering how the mind works. Much like:\n",
    "- Aristotle when he was collecting species and derives propositional logic, the hierarchy of species a\n",
    "- Hume with his thought metaphysics as nodes \n",
    "- Kant trying to make sense of thinking (probably I need to read more Kant in this sense)\n",
    "- Adulf Huxley with his LSD trips try\n",
    "- Rudolf Stainer with his Spiritual Science.\n",
    "\n",
    "\n",
    "I would like to find those building blocks that would allow me to express complex ideas with a clever title which later can be appended to a tree of titles.\n",
    "\n",
    "### Success criteria for the titles\n",
    "- Minimize redundancy.\n",
    "- Allow for creating of several overlapping trees: Like \"Knowledge is suffering\" would be in the tree of both. \n",
    "- The feeling of click. Somehow the \"rootness\" of an idea should be proportional to the feeling of click.\n",
    "- How specific they? vs how much uncertainty they remove?\n",
    "\n",
    "## Finding the building blocks of knowledge\n",
    "\n",
    "In the same way that with the dictionary definitions I wanted to find the Apollonian building blocks of language, the categories and properties that make up definitions, the \"atoms and laws of Physics\" of definitional language. I should do the same for \"Dyonisian ideas\", which would be closer to the psychological, dream-like thoughts and needs, things like feelings, purpose, drive, belive, come into this box, in which normal definitions fall flat.\n",
    "\n",
    "So, what are the building blocks?\n",
    "- Is it specific feelings?\n",
    "- Do I need a superposition of frameworks like the Acceptance-Rejection, duality of tools, black hole of logic, the peace of trust, the need for the eternal...\n",
    "- Is it \n",
    "\n",
    "What are the operations? Those which from an idea or a couple of ideas, it adds more, or it questions more? Maybe some operation which questions something else for which the subconscious is ready to give us an answer?\n",
    "- Negation?\n",
    "- Similarity and difference?\n",
    "- Fear?\n",
    "- Loss or gain (and project them to a tree of human drives or needs to know their real impact on us)\n",
    "- Questioning assumptions?\n"
   ]
  },
  {
   "cell_type": "markdown",
   "metadata": {},
   "source": [
    "## Example how to combine ideas:\n",
    "\n",
    "\"Knowledge is suffering\" \n",
    "\"Ignorance is bliss\"\n",
    "\"All truths come with blood\"\n",
    "\"Conciousness is pain\" \n",
    "\n",
    "\n",
    "They are all hinting at the same thing in different ways. Of course they have a right of their own to exist and they should, because maybe they share 80% of the main idea they are hinting at but then the other 5% is how it connects to something slightly different. \n",
    "\n",
    "The question is how to group them in a way that makes sense? \n",
    "- Probably will need a synonims and antonyms processing.\n",
    "- Could decompose them even further using my definitions tree ideas.\n",
    "- Manually create some mappings\n",
    "\n",
    "Do I require to constraint myself on how I title ideas in order to later make it easier to create these trees? Probably I do, I should have some minimums of convention, and more over using the power of analogies, having many complex words with a lot of meaning that I can use everywhere, some sort of mystics language."
   ]
  },
  {
   "cell_type": "markdown",
   "metadata": {},
   "source": [
    "## The current labelling process\n",
    "\n",
    "In the past I have been labelling just the broad topic a comment belongs to, also adding by hand the normal labels. Ideally, I should only label the highest abstraction possible, and an engine should be able to derive from there the small building blocks. Maybe at the beginning I need to specify both to get a better idea  how that derivation could be done. Also, how to treat the relation with other ideas? Or the superposition of interpretations? Then do I just write several high level abstractions?\n"
   ]
  },
  {
   "cell_type": "markdown",
   "metadata": {},
   "source": [
    "## Iterative process\n",
    "\n",
    "It is going to be an iterative process. At the beginning there is going to be too many labels, not so readily digestable by the thinking engine. Some repeated ideas that need to be trimmed or combined, or extended... "
   ]
  },
  {
   "cell_type": "markdown",
   "metadata": {},
   "source": [
    "# The lengths I have to go to in order to gather knowledge that in the end I am going to toss in the trash hum?"
   ]
  },
  {
   "cell_type": "markdown",
   "metadata": {},
   "source": [
    "## How to reference and combine different sources?\n",
    "\n",
    "At some point I will have a list of:\n",
    "- Authors\n",
    "- Philosophies\n",
    "- Books \n",
    "\n",
    "Each of them will yield a set of ideas that really belongs to them, and a set of ideas that are really linked to a given author (probably the ones I do not necesarily agree with). How to make this differentiation? How can I \"dissolve\" all of those elements into general pieces of ideas to later combine?\n",
    "\n",
    "\n",
    "I can analysize philosophies, religions, moralities, belief systems by means of how they adress the human subconsioucs, our psychological needs. Maybe."
   ]
  },
  {
   "cell_type": "code",
   "execution_count": null,
   "metadata": {},
   "outputs": [],
   "source": []
  }
 ],
 "metadata": {
  "kernelspec": {
   "display_name": "Python 3",
   "language": "python",
   "name": "python3"
  },
  "language_info": {
   "codemirror_mode": {
    "name": "ipython",
    "version": 3
   },
   "file_extension": ".py",
   "mimetype": "text/x-python",
   "name": "python",
   "nbconvert_exporter": "python",
   "pygments_lexer": "ipython3",
   "version": "3.6.9"
  }
 },
 "nbformat": 4,
 "nbformat_minor": 4
}
